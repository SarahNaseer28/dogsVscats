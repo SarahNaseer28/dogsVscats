{
 "cells": [
  {
   "cell_type": "code",
   "execution_count": 1,
   "id": "5b1f7aab",
   "metadata": {},
   "outputs": [],
   "source": [
    "import pickle"
   ]
  },
  {
   "cell_type": "code",
   "execution_count": 2,
   "id": "d4d631b3",
   "metadata": {},
   "outputs": [],
   "source": [
    "from keras.models import Sequential"
   ]
  },
  {
   "cell_type": "code",
   "execution_count": 3,
   "id": "1556942c",
   "metadata": {},
   "outputs": [],
   "source": [
    "from tensorflow.keras import layers"
   ]
  },
  {
   "cell_type": "code",
   "execution_count": 4,
   "id": "4843689d",
   "metadata": {},
   "outputs": [],
   "source": [
    "import pickle\n",
    "X = pickle.load(open('X.pkl','rb'))\n",
    "y = pickle.load(open('y.pkl','rb'))"
   ]
  },
  {
   "cell_type": "code",
   "execution_count": 5,
   "id": "81e26c6b",
   "metadata": {},
   "outputs": [],
   "source": [
    "X = X/255"
   ]
  },
  {
   "cell_type": "code",
   "execution_count": 6,
   "id": "114df11f",
   "metadata": {},
   "outputs": [],
   "source": [
    "model = Sequential()"
   ]
  },
  {
   "cell_type": "code",
   "execution_count": 7,
   "id": "f33fc54b",
   "metadata": {},
   "outputs": [],
   "source": [
    "model.add(layers.Conv2D(64,(3,3),activation = 'relu'))\n",
    "model.add(layers.MaxPooling2D(2,2))"
   ]
  },
  {
   "cell_type": "code",
   "execution_count": 8,
   "id": "0426c0c2",
   "metadata": {},
   "outputs": [],
   "source": [
    "model.add(layers.Conv2D(64,(3,3),activation = 'relu'))\n",
    "model.add(layers.MaxPooling2D(2,2))"
   ]
  },
  {
   "cell_type": "code",
   "execution_count": 9,
   "id": "a926dbd7",
   "metadata": {},
   "outputs": [],
   "source": [
    "model.add(layers.Conv2D(64,(3,3),activation = 'relu'))\n",
    "model.add(layers.MaxPooling2D(2,2))"
   ]
  },
  {
   "cell_type": "code",
   "execution_count": 10,
   "id": "95df406f",
   "metadata": {},
   "outputs": [],
   "source": [
    "model.add(layers.Flatten())"
   ]
  },
  {
   "cell_type": "code",
   "execution_count": 11,
   "id": "55f44ab8",
   "metadata": {},
   "outputs": [],
   "source": [
    "model.add(layers.Dense(128,input_shape = X.shape[1:], activation = 'relu'))\n",
    "model.add(layers.Dense(128, activation = 'relu'))"
   ]
  },
  {
   "cell_type": "code",
   "execution_count": 12,
   "id": "d325c1f2",
   "metadata": {},
   "outputs": [],
   "source": [
    "model.add(layers.Dense(2, activation = 'softmax'))"
   ]
  },
  {
   "cell_type": "code",
   "execution_count": 13,
   "id": "b53822b9",
   "metadata": {},
   "outputs": [],
   "source": [
    "model.compile(optimizer = 'adam', loss='sparse_categorical_crossentropy', metrics=['accuracy'])"
   ]
  },
  {
   "cell_type": "code",
   "execution_count": 14,
   "id": "62eb22f0",
   "metadata": {},
   "outputs": [
    {
     "name": "stdout",
     "output_type": "stream",
     "text": [
      "Epoch 1/30\n",
      "704/704 [==============================] - 409s 552ms/step - loss: 0.5977 - accuracy: 0.6695 - val_loss: 0.4894 - val_accuracy: 0.7708\n",
      "Epoch 2/30\n",
      "704/704 [==============================] - 344s 489ms/step - loss: 0.4693 - accuracy: 0.7753 - val_loss: 0.4543 - val_accuracy: 0.7796\n",
      "Epoch 3/30\n",
      "704/704 [==============================] - 338s 480ms/step - loss: 0.3940 - accuracy: 0.8228 - val_loss: 0.4059 - val_accuracy: 0.8152\n",
      "Epoch 4/30\n",
      "704/704 [==============================] - 336s 477ms/step - loss: 0.3327 - accuracy: 0.8524 - val_loss: 0.4037 - val_accuracy: 0.8140\n",
      "Epoch 5/30\n",
      "704/704 [==============================] - 335s 475ms/step - loss: 0.2742 - accuracy: 0.8828 - val_loss: 0.3743 - val_accuracy: 0.8388\n",
      "Epoch 6/30\n",
      "704/704 [==============================] - 333s 473ms/step - loss: 0.2072 - accuracy: 0.9160 - val_loss: 0.4167 - val_accuracy: 0.8384\n",
      "Epoch 7/30\n",
      "704/704 [==============================] - 413s 586ms/step - loss: 0.1531 - accuracy: 0.9400 - val_loss: 0.4470 - val_accuracy: 0.8356\n",
      "Epoch 8/30\n",
      "704/704 [==============================] - 327s 465ms/step - loss: 0.1085 - accuracy: 0.9578 - val_loss: 0.5296 - val_accuracy: 0.8428\n",
      "Epoch 9/30\n",
      "704/704 [==============================] - 338s 480ms/step - loss: 0.0735 - accuracy: 0.9713 - val_loss: 0.7290 - val_accuracy: 0.8072\n",
      "Epoch 10/30\n",
      "704/704 [==============================] - 342s 486ms/step - loss: 0.0678 - accuracy: 0.9757 - val_loss: 0.6347 - val_accuracy: 0.8360\n",
      "Epoch 11/30\n",
      "704/704 [==============================] - 344s 488ms/step - loss: 0.0523 - accuracy: 0.9816 - val_loss: 0.7415 - val_accuracy: 0.8300\n",
      "Epoch 12/30\n",
      "704/704 [==============================] - 335s 476ms/step - loss: 0.0399 - accuracy: 0.9860 - val_loss: 0.7627 - val_accuracy: 0.8332\n",
      "Epoch 13/30\n",
      "704/704 [==============================] - 346s 491ms/step - loss: 0.0346 - accuracy: 0.9898 - val_loss: 0.8200 - val_accuracy: 0.8432\n",
      "Epoch 14/30\n",
      "704/704 [==============================] - 353s 501ms/step - loss: 0.0360 - accuracy: 0.9867 - val_loss: 0.8387 - val_accuracy: 0.8312\n",
      "Epoch 15/30\n",
      "704/704 [==============================] - 345s 490ms/step - loss: 0.0296 - accuracy: 0.9889 - val_loss: 0.8711 - val_accuracy: 0.8460\n",
      "Epoch 16/30\n",
      "704/704 [==============================] - 330s 468ms/step - loss: 0.0287 - accuracy: 0.9902 - val_loss: 0.8777 - val_accuracy: 0.8292\n",
      "Epoch 17/30\n",
      "704/704 [==============================] - 342s 486ms/step - loss: 0.0244 - accuracy: 0.9914 - val_loss: 0.8954 - val_accuracy: 0.8396\n",
      "Epoch 18/30\n",
      "704/704 [==============================] - 361s 513ms/step - loss: 0.0255 - accuracy: 0.9919 - val_loss: 0.8661 - val_accuracy: 0.8296\n",
      "Epoch 19/30\n",
      "704/704 [==============================] - 356s 506ms/step - loss: 0.0213 - accuracy: 0.9922 - val_loss: 1.0335 - val_accuracy: 0.8312\n",
      "Epoch 20/30\n",
      "704/704 [==============================] - 354s 502ms/step - loss: 0.0254 - accuracy: 0.9909 - val_loss: 0.9834 - val_accuracy: 0.8376\n",
      "Epoch 21/30\n",
      "704/704 [==============================] - 361s 513ms/step - loss: 0.0235 - accuracy: 0.9920 - val_loss: 0.9421 - val_accuracy: 0.8340\n",
      "Epoch 22/30\n",
      "704/704 [==============================] - 343s 487ms/step - loss: 0.0190 - accuracy: 0.9933 - val_loss: 0.8573 - val_accuracy: 0.8364\n",
      "Epoch 23/30\n",
      "704/704 [==============================] - 345s 490ms/step - loss: 0.0129 - accuracy: 0.9957 - val_loss: 1.1919 - val_accuracy: 0.8300\n",
      "Epoch 24/30\n",
      "704/704 [==============================] - 343s 487ms/step - loss: 0.0271 - accuracy: 0.9914 - val_loss: 0.9183 - val_accuracy: 0.8328\n",
      "Epoch 25/30\n",
      "704/704 [==============================] - 345s 490ms/step - loss: 0.0228 - accuracy: 0.9927 - val_loss: 0.8283 - val_accuracy: 0.8404\n",
      "Epoch 26/30\n",
      "704/704 [==============================] - 342s 485ms/step - loss: 0.0223 - accuracy: 0.9943 - val_loss: 0.9852 - val_accuracy: 0.8196\n",
      "Epoch 27/30\n",
      "704/704 [==============================] - 346s 492ms/step - loss: 0.0186 - accuracy: 0.9942 - val_loss: 0.9810 - val_accuracy: 0.8360\n",
      "Epoch 28/30\n",
      "704/704 [==============================] - 368s 523ms/step - loss: 0.0217 - accuracy: 0.9932 - val_loss: 1.0230 - val_accuracy: 0.8312\n",
      "Epoch 29/30\n",
      "704/704 [==============================] - 354s 503ms/step - loss: 0.0124 - accuracy: 0.9953 - val_loss: 1.1669 - val_accuracy: 0.8192\n",
      "Epoch 30/30\n",
      "704/704 [==============================] - 348s 494ms/step - loss: 0.0141 - accuracy: 0.9951 - val_loss: 1.3143 - val_accuracy: 0.8320\n"
     ]
    }
   ],
   "source": [
    "train_model=model.fit(X, y, epochs=30 , validation_split = 0.1)"
   ]
  },
  {
   "cell_type": "code",
   "execution_count": 15,
   "id": "cbfaf004",
   "metadata": {},
   "outputs": [
    {
     "name": "stdout",
     "output_type": "stream",
     "text": [
      "Test loss: 0.1454075574874878\n",
      "Test accuracy: 0.978600025177002\n"
     ]
    }
   ],
   "source": [
    "score = model.evaluate(X, y, verbose = 0) \n",
    "print('Test loss:', score[0]) \n",
    "print('Test accuracy:', score[1])"
   ]
  },
  {
   "cell_type": "code",
   "execution_count": 20,
   "id": "7122975e",
   "metadata": {},
   "outputs": [],
   "source": [
    "import matplotlib.pyplot as plt"
   ]
  },
  {
   "cell_type": "code",
   "execution_count": 21,
   "id": "0d1b21f5",
   "metadata": {},
   "outputs": [
    {
     "data": {
      "image/png": "[encoded data removed]",
      "text/plain": [
       "<Figure size 1008x432 with 2 Axes>"
      ]
     },
     "metadata": {
      "needs_background": "light"
     },
     "output_type": "display_data"
    }
   ],
   "source": [
    "def plot_accuracy_and_loss(train_model):\n",
    "    hist = train_model.history\n",
    "    acc = hist['accuracy']\n",
    "    val_acc = hist['val_accuracy']\n",
    "    loss = hist['loss']\n",
    "    val_loss = hist['val_loss']\n",
    "    epochs = range(len(acc))\n",
    "    f, ax = plt.subplots(1,2, figsize=(14,6))\n",
    "    ax[0].plot(epochs, acc, 'g', label='Training accuracy')\n",
    "    ax[0].plot(epochs, val_acc, 'r', label='Validation accuracy')\n",
    "    ax[0].set_title('Training and validation accuracy')\n",
    "    ax[0].legend()\n",
    "    ax[1].plot(epochs, loss, 'g', label='Training loss')\n",
    "    ax[1].plot(epochs, val_loss, 'r', label='Validation loss')\n",
    "    ax[1].set_title('Training and validation loss')\n",
    "    ax[1].legend()\n",
    "    plt.show()\n",
    "plot_accuracy_and_loss(train_model)"
   ]
  },
  {
   "cell_type": "code",
   "execution_count": null,
   "id": "ab4dbdd8",
   "metadata": {},
   "outputs": [],
   "source": []
  }
 ],
 "metadata": {
  "kernelspec": {
   "display_name": "Python 3 (ipykernel)",
   "language": "python",
   "name": "python3"
  },
  "language_info": {
   "codemirror_mode": {
    "name": "ipython",
    "version": 3
   },
   "file_extension": ".py",
   "mimetype": "text/x-python",
   "name": "python",
   "nbconvert_exporter": "python",
   "pygments_lexer": "ipython3",
   "version": "3.9.5"
  }
 },
 "nbformat": 4,
 "nbformat_minor": 5
}
