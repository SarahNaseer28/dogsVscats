{
 "cells": [
  {
   "cell_type": "code",
   "execution_count": 5,
   "id": "91e93f24",
   "metadata": {},
   "outputs": [],
   "source": [
    "import numpy as np\n",
    "import cv2\n",
    "import os\n",
    "import random\n",
    "import matplotlib.pyplot as plt\n",
    "import pickle"
   ]
  },
  {
   "cell_type": "code",
   "execution_count": 13,
   "id": "3e5100d7",
   "metadata": {},
   "outputs": [],
   "source": [
    "DIRECTORY = r'D:\\PlantClef Project\\dogscats'\n",
    "CATEGORIES = ['cat','dog']\n",
    "\n",
    "IMG_SIZE = 100\n",
    "data = []\n",
    "\n",
    "for category in CATEGORIES:\n",
    "    folder=os.path.join(DIRECTORY,category)\n",
    "    label=CATEGORIES.index(category)\n",
    "    for img in os.listdir(folder):\n",
    "        img_path=os.path.join(folder,img)\n",
    "        \n",
    "        img_arr=cv2.imread(img_path)\n",
    "        #plt.imshow(img_arr)\n",
    "        #break\n",
    "        \n",
    "        img_arr=cv2.resize(img_arr,(IMG_SIZE,IMG_SIZE))\n",
    "        #plt.imshow(img_arr);break\n",
    "        \n",
    "        data.append([img_arr,label])"
   ]
  },
  {
   "cell_type": "code",
   "execution_count": 23,
   "id": "2d9a4ba4",
   "metadata": {},
   "outputs": [],
   "source": [
    "#len(data)\n",
    "random.shuffle(data)"
   ]
  },
  {
   "cell_type": "code",
   "execution_count": 19,
   "id": "eabd2657",
   "metadata": {},
   "outputs": [],
   "source": [
    "X = []\n",
    "y = []"
   ]
  },
  {
   "cell_type": "code",
   "execution_count": 20,
   "id": "b65ff084",
   "metadata": {},
   "outputs": [],
   "source": [
    "for features,labels in data:\n",
    "    X.append(features)\n",
    "    y.append(labels)"
   ]
  },
  {
   "cell_type": "code",
   "execution_count": 21,
   "id": "b791084f",
   "metadata": {},
   "outputs": [],
   "source": [
    "X = np.array(X)\n",
    "y = np.array(y)"
   ]
  },
  {
   "cell_type": "code",
   "execution_count": 24,
   "id": "73b1e781",
   "metadata": {},
   "outputs": [],
   "source": [
    "#len(X)\n",
    "#len(y)\n",
    "pickle.dump(X, open('X.pkl','wb'))\n",
    "pickle.dump(y, open('y.pkl','wb'))"
   ]
  }
 ],
 "metadata": {
  "kernelspec": {
   "display_name": "Python 3 (ipykernel)",
   "language": "python",
   "name": "python3"
  },
  "language_info": {
   "codemirror_mode": {
    "name": "ipython",
    "version": 3
   },
   "file_extension": ".py",
   "mimetype": "text/x-python",
   "name": "python",
   "nbconvert_exporter": "python",
   "pygments_lexer": "ipython3",
   "version": "3.9.5"
  }
 },
 "nbformat": 4,
 "nbformat_minor": 5
}
